{
 "cells": [
  {
   "metadata": {},
   "cell_type": "markdown",
   "source": [
    "<h4>Algoritmo A* – Melhor Caminho</h4>\n",
    "Para compreender o funcionamento e a lógica por trás do Algoritmo A Estrela, vamos utilizar um labirinto de 4 linhas e 4 colunas gerado pela biblioteca pyamaze.\n",
    "<br><br><br>\n",
    "<center><img src=\"images/maze_4_x_4.jpg\"></center>\n",
    "<br> <br>\n",
    "\n",
    "O <b>A*</b> é um <b>algoritmo que otimiza</b> essas buscas pelos melhores caminhos por meio de um método que leva em consideração a quantidade percorrida somada a uma estimativa da quantidade restante.\n",
    "\n",
    "<br>\n",
    "Esse custo é chamado de <code>f_score</code>, e é dado pela soma de <code>g_score</code> (passos dados) e <code>h_score</code> (estimativa restante). Portanto, no labirinto 4×4, teremos na célula inicial um f_score de 6, pois demos 0 passos, e o caminho estimado até o ponto final, desconsiderando paredes, levaria 6 passos.\n",
    "\n",
    "<br><br><br>\n",
    "<center><img src=\"images/maze_inital_score.jpg\"></center>\n",
    "<br> <br>\n",
    "<pre>f_score = g_score + h_score</pre>\n",
    "\n",
    "<br><br><br>\n",
    "<center><img src=\"images/maze_all_scores.jpg\"></center>\n",
    "<br> <br>\n",
    "\n",
    "<h4>Função h_score - Heuristica de Estimativa de passos</h4>"
   ],
   "id": "98d262b1def99d0f"
  },
  {
   "metadata": {
    "collapsed": true,
    "ExecuteTime": {
     "end_time": "2024-10-16T21:48:28.760623Z",
     "start_time": "2024-10-16T21:48:28.745113Z"
    }
   },
   "cell_type": "code",
   "source": [
    "from pyamaze import maze, agent, COLOR, textLabel\n",
    "from queue import PriorityQueue\n",
    "\n",
    "destino = (1, 1)\n",
    "\n",
    "\n",
    "def h_score(celula, destino):\n",
    "    # Heristica de calculo por distancia Manhattan -> d = abs(x1 - x2) + abs(y1 - y2)\n",
    "    # Distancia Euclidiana alternativa: e = sqrt(pow(x,2), pow(y,2))\n",
    "    linha_atual, coluna_atual = celula\n",
    "    linha_destino, coluna_destino = destino\n",
    "    return abs(coluna_atual - coluna_destino) + abs(linha_atual - linha_destino)"
   ],
   "id": "initial_id",
   "outputs": [],
   "execution_count": 1
  },
  {
   "metadata": {},
   "cell_type": "markdown",
   "source": [
    "<h4>Definição da distância de Manhattan</h4>\n",
    "A distância de Manhattan é uma métrica usada para determinar a distância entre dois pontos em um caminho semelhante a uma grade. Diferentemente da distância euclidiana, que mede a linha mais curta possível entre dois pontos, a distância de Manhattan mede a soma das diferenças absolutas entre as coordenadas dos pontos. \n",
    "<br><br><br>\n",
    "<center><img src=\"images/euclidian_distance.jpg\"></center>\n",
    "<br> <br>\n"
   ],
   "id": "4cd62947dacdee74"
  },
  {
   "metadata": {},
   "cell_type": "markdown",
   "source": "<h4><center>Algoritmo A star no Python – A*</center> </h4>\n",
   "id": "bf4810e0f9db13d5"
  },
  {
   "metadata": {
    "ExecuteTime": {
     "end_time": "2024-10-16T21:48:32.156907Z",
     "start_time": "2024-10-16T21:48:32.151765Z"
    }
   },
   "cell_type": "code",
   "source": [
    "def a_star(labirinto):\n",
    "\n",
    "    f_score = {celula: float(\"inf\") for celula in labirinto.grid}\n",
    "    g_score = {}\n",
    "    celula_inicial = (labirinto.rows, labirinto.cols)\n",
    "\n",
    "    g_score[celula_inicial] = 0\n",
    "    f_score[celula_inicial] = g_score[celula_inicial] + h_score(celula_inicial, destino)\n",
    "\n",
    "    fila = PriorityQueue()\n",
    "    fila.put((f_score[celula_inicial], h_score(celula_inicial, destino), celula_inicial))\n",
    "\n",
    "    caminho = {}\n",
    "    visitados = [celula_inicial]  # Lista para armazenar as células visitadas\n",
    "\n",
    "    while not fila.empty():\n",
    "        celula = fila.get()[2]\n",
    "        if celula == destino:\n",
    "            break\n",
    "        proxima_celula = ()\n",
    "        for direcao in \"NSEW\":\n",
    "            if labirinto.maze_map[celula][direcao]:\n",
    "                if direcao == \"N\":\n",
    "                    proxima_celula = (celula[0] - 1, celula[1])\n",
    "                elif direcao == \"S\":\n",
    "                    proxima_celula = (celula[0] + 1, celula[1])\n",
    "                elif direcao == \"W\":\n",
    "                    proxima_celula = (celula[0], celula[1] - 1)\n",
    "                elif direcao == \"E\":\n",
    "                    proxima_celula = (celula[0], celula[1] + 1)\n",
    "\n",
    "                novo_g_score = g_score[celula] + 1\n",
    "                novo_f_score = novo_g_score + h_score(proxima_celula, destino)\n",
    "\n",
    "                if novo_f_score < f_score[proxima_celula]:\n",
    "                    f_score[proxima_celula] = novo_f_score\n",
    "                    g_score[proxima_celula] = novo_g_score\n",
    "                    fila.put((novo_f_score, h_score(proxima_celula, destino), proxima_celula))\n",
    "                    caminho[proxima_celula] = celula\n",
    "                    visitados.append(proxima_celula)  # Armazenar a célula visitada\n",
    "\n",
    "    caminho_final = {}\n",
    "    celula_analisada = destino\n",
    "    while celula_analisada != celula_inicial:\n",
    "        caminho_final[caminho[celula_analisada]] = celula_analisada\n",
    "        celula_analisada = caminho[celula_analisada]\n",
    "\n",
    "    return visitados, caminho_final"
   ],
   "id": "78271ea58bc95ad",
   "outputs": [],
   "execution_count": 2
  },
  {
   "metadata": {},
   "cell_type": "markdown",
   "source": "<h4><center>Criação do Labirinto – Biblioteca pyamaze</center></h4>\n",
   "id": "b9a911e74384aedb"
  },
  {
   "metadata": {
    "ExecuteTime": {
     "end_time": "2024-10-16T21:48:35.809676Z",
     "start_time": "2024-10-16T21:48:35.761588Z"
    }
   },
   "cell_type": "code",
   "source": [
    "# Comando relevantes\n",
    "lab = maze()\n",
    "lab.CreateMaze(loopPercent=10, theme=COLOR.dark, loadMaze=\"maze--2024-10-16--14-52-19.csv\")\n",
    "mapa = lab.maze_map\n",
    "print(mapa)"
   ],
   "id": "d313ef32368937f9",
   "outputs": [
    {
     "name": "stdout",
     "output_type": "stream",
     "text": [
      "{(1, 1): {'E': 1, 'W': 0, 'N': 0, 'S': 0}, (2, 1): {'E': 1, 'W': 0, 'N': 0, 'S': 1}, (3, 1): {'E': 0, 'W': 0, 'N': 1, 'S': 1}, (4, 1): {'E': 0, 'W': 0, 'N': 1, 'S': 1}, (5, 1): {'E': 1, 'W': 0, 'N': 1, 'S': 1}, (6, 1): {'E': 1, 'W': 0, 'N': 1, 'S': 0}, (7, 1): {'E': 1, 'W': 0, 'N': 0, 'S': 1}, (8, 1): {'E': 0, 'W': 0, 'N': 1, 'S': 1}, (9, 1): {'E': 1, 'W': 0, 'N': 1, 'S': 0}, (10, 1): {'E': 0, 'W': 0, 'N': 0, 'S': 1}, (1, 2): {'E': 1, 'W': 1, 'N': 0, 'S': 1}, (2, 2): {'E': 0, 'W': 1, 'N': 1, 'S': 0}, (3, 2): {'E': 1, 'W': 0, 'N': 0, 'S': 1}, (4, 2): {'E': 1, 'W': 0, 'N': 1, 'S': 0}, (5, 2): {'E': 1, 'W': 1, 'N': 0, 'S': 0}, (6, 2): {'E': 1, 'W': 1, 'N': 0, 'S': 0}, (7, 2): {'E': 1, 'W': 1, 'N': 0, 'S': 0}, (8, 2): {'E': 1, 'W': 0, 'N': 0, 'S': 1}, (9, 2): {'E': 0, 'W': 1, 'N': 1, 'S': 0}, (10, 2): {'E': 1, 'W': 0, 'N': 0, 'S': 1}, (1, 3): {'E': 1, 'W': 1, 'N': 0, 'S': 1}, (2, 3): {'E': 0, 'W': 0, 'N': 1, 'S': 1}, (3, 3): {'E': 0, 'W': 1, 'N': 1, 'S': 0}, (4, 3): {'E': 0, 'W': 1, 'N': 0, 'S': 1}, (5, 3): {'E': 0, 'W': 1, 'N': 1, 'S': 0}, (6, 3): {'E': 0, 'W': 1, 'N': 0, 'S': 1}, (7, 3): {'E': 0, 'W': 1, 'N': 1, 'S': 0}, (8, 3): {'E': 0, 'W': 1, 'N': 0, 'S': 1}, (9, 3): {'E': 1, 'W': 0, 'N': 1, 'S': 0}, (10, 3): {'E': 0, 'W': 1, 'N': 0, 'S': 1}, (1, 4): {'E': 1, 'W': 1, 'N': 0, 'S': 1}, (2, 4): {'E': 0, 'W': 0, 'N': 1, 'S': 1}, (3, 4): {'E': 1, 'W': 0, 'N': 1, 'S': 1}, (4, 4): {'E': 1, 'W': 0, 'N': 1, 'S': 0}, (5, 4): {'E': 1, 'W': 0, 'N': 0, 'S': 1}, (6, 4): {'E': 0, 'W': 0, 'N': 1, 'S': 1}, (7, 4): {'E': 0, 'W': 0, 'N': 1, 'S': 1}, (8, 4): {'E': 1, 'W': 0, 'N': 1, 'S': 0}, (9, 4): {'E': 1, 'W': 1, 'N': 0, 'S': 0}, (10, 4): {'E': 1, 'W': 0, 'N': 0, 'S': 1}, (1, 5): {'E': 1, 'W': 1, 'N': 0, 'S': 0}, (2, 5): {'E': 1, 'W': 0, 'N': 0, 'S': 1}, (3, 5): {'E': 0, 'W': 1, 'N': 1, 'S': 0}, (4, 5): {'E': 0, 'W': 1, 'N': 0, 'S': 1}, (5, 5): {'E': 0, 'W': 1, 'N': 1, 'S': 0}, (6, 5): {'E': 0, 'W': 0, 'N': 0, 'S': 1}, (7, 5): {'E': 0, 'W': 0, 'N': 1, 'S': 1}, (8, 5): {'E': 1, 'W': 1, 'N': 1, 'S': 0}, (9, 5): {'E': 1, 'W': 1, 'N': 0, 'S': 0}, (10, 5): {'E': 1, 'W': 1, 'N': 0, 'S': 1}, (1, 6): {'E': 1, 'W': 1, 'N': 0, 'S': 0}, (2, 6): {'E': 1, 'W': 1, 'N': 0, 'S': 0}, (3, 6): {'E': 1, 'W': 0, 'N': 0, 'S': 1}, (4, 6): {'E': 0, 'W': 0, 'N': 1, 'S': 1}, (5, 6): {'E': 0, 'W': 0, 'N': 1, 'S': 1}, (6, 6): {'E': 1, 'W': 0, 'N': 1, 'S': 1}, (7, 6): {'E': 1, 'W': 0, 'N': 1, 'S': 0}, (8, 6): {'E': 1, 'W': 1, 'N': 0, 'S': 0}, (9, 6): {'E': 1, 'W': 1, 'N': 0, 'S': 0}, (10, 6): {'E': 0, 'W': 1, 'N': 0, 'S': 1}, (1, 7): {'E': 1, 'W': 1, 'N': 0, 'S': 0}, (2, 7): {'E': 0, 'W': 1, 'N': 0, 'S': 1}, (3, 7): {'E': 0, 'W': 1, 'N': 1, 'S': 0}, (4, 7): {'E': 1, 'W': 0, 'N': 0, 'S': 1}, (5, 7): {'E': 0, 'W': 0, 'N': 1, 'S': 1}, (6, 7): {'E': 1, 'W': 1, 'N': 1, 'S': 0}, (7, 7): {'E': 1, 'W': 1, 'N': 0, 'S': 0}, (8, 7): {'E': 0, 'W': 1, 'N': 0, 'S': 0}, (9, 7): {'E': 0, 'W': 1, 'N': 0, 'S': 1}, (10, 7): {'E': 1, 'W': 0, 'N': 1, 'S': 0}, (1, 8): {'E': 0, 'W': 1, 'N': 0, 'S': 1}, (2, 8): {'E': 1, 'W': 0, 'N': 1, 'S': 0}, (3, 8): {'E': 0, 'W': 0, 'N': 0, 'S': 1}, (4, 8): {'E': 1, 'W': 1, 'N': 1, 'S': 0}, (5, 8): {'E': 1, 'W': 0, 'N': 0, 'S': 1}, (6, 8): {'E': 1, 'W': 1, 'N': 1, 'S': 0}, (7, 8): {'E': 0, 'W': 1, 'N': 0, 'S': 1}, (8, 8): {'E': 0, 'W': 0, 'N': 1, 'S': 1}, (9, 8): {'E': 1, 'W': 0, 'N': 1, 'S': 0}, (10, 8): {'E': 0, 'W': 1, 'N': 0, 'S': 1}, (1, 9): {'E': 1, 'W': 0, 'N': 0, 'S': 0}, (2, 9): {'E': 0, 'W': 1, 'N': 0, 'S': 1}, (3, 9): {'E': 1, 'W': 0, 'N': 1, 'S': 0}, (4, 9): {'E': 0, 'W': 1, 'N': 0, 'S': 0}, (5, 9): {'E': 1, 'W': 1, 'N': 0, 'S': 0}, (6, 9): {'E': 0, 'W': 1, 'N': 0, 'S': 1}, (7, 9): {'E': 0, 'W': 0, 'N': 1, 'S': 1}, (8, 9): {'E': 1, 'W': 0, 'N': 1, 'S': 0}, (9, 9): {'E': 0, 'W': 1, 'N': 0, 'S': 1}, (10, 9): {'E': 0, 'W': 0, 'N': 1, 'S': 1}, (1, 10): {'E': 0, 'W': 1, 'N': 0, 'S': 1}, (2, 10): {'E': 0, 'W': 0, 'N': 1, 'S': 1}, (3, 10): {'E': 0, 'W': 1, 'N': 1, 'S': 1}, (4, 10): {'E': 0, 'W': 0, 'N': 1, 'S': 1}, (5, 10): {'E': 0, 'W': 1, 'N': 1, 'S': 1}, (6, 10): {'E': 0, 'W': 0, 'N': 1, 'S': 1}, (7, 10): {'E': 0, 'W': 0, 'N': 1, 'S': 1}, (8, 10): {'E': 0, 'W': 1, 'N': 1, 'S': 1}, (9, 10): {'E': 0, 'W': 0, 'N': 1, 'S': 1}, (10, 10): {'E': 0, 'W': 0, 'N': 1, 'S': 0}, (11, 1): {'E': 1, 'W': 0, 'N': 1, 'S': 1}, (12, 1): {'E': 1, 'W': 0, 'N': 1, 'S': 0}, (11, 2): {'E': 0, 'W': 1, 'N': 1, 'S': 0}, (12, 2): {'E': 1, 'W': 1, 'N': 0, 'S': 0}, (11, 3): {'E': 1, 'W': 0, 'N': 1, 'S': 0}, (12, 3): {'E': 1, 'W': 1, 'N': 0, 'S': 0}, (11, 4): {'E': 0, 'W': 1, 'N': 1, 'S': 0}, (12, 4): {'E': 0, 'W': 1, 'N': 0, 'S': 0}, (11, 5): {'E': 0, 'W': 0, 'N': 1, 'S': 1}, (12, 5): {'E': 1, 'W': 0, 'N': 1, 'S': 0}, (11, 6): {'E': 0, 'W': 0, 'N': 1, 'S': 0}, (12, 6): {'E': 1, 'W': 1, 'N': 0, 'S': 0}, (11, 7): {'E': 1, 'W': 0, 'N': 0, 'S': 1}, (12, 7): {'E': 1, 'W': 1, 'N': 1, 'S': 0}, (11, 8): {'E': 0, 'W': 1, 'N': 1, 'S': 0}, (12, 8): {'E': 1, 'W': 1, 'N': 0, 'S': 0}, (11, 9): {'E': 1, 'W': 0, 'N': 1, 'S': 0}, (12, 9): {'E': 1, 'W': 1, 'N': 0, 'S': 0}, (11, 10): {'E': 0, 'W': 1, 'N': 0, 'S': 1}, (12, 10): {'E': 0, 'W': 1, 'N': 1, 'S': 0}}\n"
     ]
    }
   ],
   "execution_count": 3
  },
  {
   "metadata": {
    "ExecuteTime": {
     "end_time": "2024-10-16T21:48:41.611527Z",
     "start_time": "2024-10-16T21:48:41.569750Z"
    }
   },
   "cell_type": "code",
   "source": [
    "lab2 = maze()\n",
    "lab2.CreateMaze(loopPercent=10, theme=COLOR.dark, loadMaze=\"maze--2024-10-16--14-52-19.csv\")\n",
    "caminho = lab2.path\n",
    "print(caminho)"
   ],
   "id": "41c2af4efef67838",
   "outputs": [
    {
     "name": "stdout",
     "output_type": "stream",
     "text": [
      "{(1, 2): (1, 1), (1, 3): (1, 2), (1, 4): (1, 3), (2, 4): (1, 4), (3, 4): (2, 4), (3, 5): (3, 4), (2, 5): (3, 5), (2, 6): (2, 5), (2, 7): (2, 6), (3, 7): (2, 7), (3, 6): (3, 7), (4, 6): (3, 6), (5, 6): (4, 6), (6, 6): (5, 6), (7, 6): (6, 6), (7, 7): (7, 6), (7, 8): (7, 7), (8, 8): (7, 8), (9, 8): (8, 8), (9, 9): (9, 8), (10, 9): (9, 9), (11, 9): (10, 9), (11, 10): (11, 9), (12, 10): (11, 10)}\n"
     ]
    }
   ],
   "execution_count": 4
  },
  {
   "metadata": {
    "ExecuteTime": {
     "end_time": "2024-10-16T21:49:27.353703Z",
     "start_time": "2024-10-16T21:49:00.881296Z"
    }
   },
   "cell_type": "code",
   "source": [
    "if __name__=='__main__':\n",
    "    # Criação do Labirinto\n",
    "    labirinto = maze()\n",
    "    labirinto.CreateMaze(loopPercent=10, theme=COLOR.dark, loadMaze=\"maze--2024-10-16--14-52-19.csv\")\n",
    "\n",
    "    # Executar o algoritmo A*\n",
    "    visitados, caminho = a_star(labirinto)\n",
    "\n",
    "    # Adicionar agentes para mostrar células visitadas e caminho final\n",
    "    agente_visitados = agent(labirinto, footprints=True, color=COLOR.blue, shape='square', filled=True)\n",
    "    agente_caminho = agent(labirinto, footprints=True, color=COLOR.black, shape='arrow', filled=False)\n",
    "\n",
    "    # Exibir as células visitadas e o caminho encontrado\n",
    "    labirinto.tracePath({agente_visitados: visitados}, delay=50)\n",
    "    labirinto.tracePath({agente_caminho: caminho}, delay=100)\n",
    "\n",
    "    # Exibir o label com o tamanho do caminho\n",
    "    l = textLabel(labirinto, 'Tamanho do caminho mais curto (A*): ', len(caminho) + 1)\n",
    "\n",
    "    # Rodar o labirinto\n",
    "    labirinto.run()"
   ],
   "id": "28d9042b116a0a97",
   "outputs": [],
   "execution_count": 6
  }
 ],
 "metadata": {
  "kernelspec": {
   "display_name": "Python 3",
   "language": "python",
   "name": "python3"
  },
  "language_info": {
   "codemirror_mode": {
    "name": "ipython",
    "version": 2
   },
   "file_extension": ".py",
   "mimetype": "text/x-python",
   "name": "python",
   "nbconvert_exporter": "python",
   "pygments_lexer": "ipython2",
   "version": "2.7.6"
  }
 },
 "nbformat": 4,
 "nbformat_minor": 5
}
